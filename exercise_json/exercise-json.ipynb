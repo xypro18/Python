{
 "cells": [
  {
   "cell_type": "code",
   "execution_count": null,
   "metadata": {},
   "outputs": [],
   "source": [
    "# This exercise will focus on parsing data in json format.\n",
    "# We are accessing the Ebay API to perform a search for 'iphone', and we want to compile just some \n",
    "# of the returned information in another json file.\n",
    "# First we'll import the necessary modules:\n",
    "import json\n",
    "from api import get_data # this is not a python module! It's our api.py file.\n",
    "import os\n",
    "import pprint # used to pretty print big python dictionaries\n",
    "\n",
    "# Now we'll call the external API using a function in our api.py file\n",
    "source = get_data(\"https://svcs.ebay.com/services/search/FindingService/v1?OPERATION-NAME=findItemsByKeywords&SERVICE-VERSION=1.0.0&RESPONSE-DATA-FORMAT=JSON&callback=_cb_findItemsByKeywords&REST-PAYLOAD&keywords=iPhone&paginationInput.entriesPerPage=6&GLOBAL-ID=EBAY-US&siteid=0&SECURITY-APPNAME=xotikota-pythonpo-PRD-87f3df848-3e35dfb4\")\n",
    "print(source)"
   ]
  },
  {
   "cell_type": "code",
   "execution_count": null,
   "metadata": {},
   "outputs": [],
   "source": [
    "# Let's clean the outcome and turn it into a valid json object:\n",
    "x = str(source)\n",
    "cleaned_source = x[:-2].replace(\"b'/**/_cb_findItemsByKeywords(\", \"\")\n",
    "# Let's get a glimpse of the outcome:\n",
    "print(cleaned_source)"
   ]
  },
  {
   "cell_type": "code",
   "execution_count": null,
   "metadata": {},
   "outputs": [],
   "source": [
    "# Let's save the outcome into a json file, so that we can inspect it (you wouldn't do this on a production environment, but it helps a lot when developing):\n",
    "with open(\"outcome.json\", \"w\") as json_file:\n",
    "    print(cleaned_source, file=json_file)"
   ]
  },
  {
   "cell_type": "code",
   "execution_count": null,
   "metadata": {},
   "outputs": [],
   "source": [
    "# Try to open the file. Whoa! The json has an error! Let's find it using an online tool: https://jsoneditoronline.org/\n",
    "# We found the error, so let's fix it (not in our file, but in our cleaned_source variable):\n",
    "cleaned_source = cleaned_source.replace('\\\\\\\\\"', '')\n",
    "print(cleaned_source)"
   ]
  },
  {
   "cell_type": "code",
   "execution_count": null,
   "metadata": {},
   "outputs": [],
   "source": [
    "# Not very easy to read, so let's turn that into a python dictionary and make it a little more human readable:\n",
    "data = json.loads(cleaned_source)\n",
    "pprint.pprint(data)"
   ]
  },
  {
   "cell_type": "code",
   "execution_count": null,
   "metadata": {},
   "outputs": [],
   "source": [
    "# Ok, now we want to parse this dictionary, retrieve only the 'title' and '__value__' from each search result and \n",
    "# save them to a new dictionary.\n",
    "# First of, let's create an empty dictionary:\n",
    "parsed = dict()\n",
    "\n",
    "# Now it's up to you to loop the 'data' dictionary, retrieve the elements, and add them to \n",
    "# the 'parsed' dictionary. Remember, if you have your data in a dictionary it means that you can dump it at any \n",
    "# time to json format."
   ]
  },
  {
   "cell_type": "code",
   "execution_count": null,
   "metadata": {},
   "outputs": [],
   "source": [
    "for item in data['findItemsByKeywordsResponse'][0]['searchResult'][0]['item']:\n",
    "    print(item['title'][0])\n",
    "    print(item['sellingStatus'][0]['currentPrice'][0]['__value__'] + ' ' + item['sellingStatus'][0]['currentPrice'][0]['@currencyId'])"
   ]
  },
  {
   "cell_type": "code",
   "execution_count": null,
   "metadata": {},
   "outputs": [],
   "source": [
    "parsed['results'] = list()\n",
    "for item in data['findItemsByKeywordsResponse'][0]['searchResult'][0]['item']:\n",
    "    parsed['results'].append([{'title': item['title'][0]}, {'price': item['sellingStatus'][0]['currentPrice'][0]['__value__'] }, {'currencyId': item['sellingStatus'][0]['currentPrice'][0]['@currencyId']}])\n",
    "\n",
    "print(parsed)"
   ]
  },
  {
   "cell_type": "code",
   "execution_count": null,
   "metadata": {},
   "outputs": [],
   "source": [
    "# As extra info, imagine that you needed to save this dictionary into a file inside a folder. \n",
    "# It's always a good practice to first check if the folder exists, and create it if necessary.\n",
    "if not os.path.exists('result'):\n",
    "    os.makedirs('result')\n",
    "    \n",
    "# Let's save the 'parsed' dictionary to a json file.\n",
    "with open('result/search_results.json', 'w') as new_file:\n",
    "    json.dump(parsed, new_file)"
   ]
  },
  {
   "cell_type": "code",
   "execution_count": null,
   "metadata": {},
   "outputs": [],
   "source": [
    "new_string = json.dumps(parsed, indent=2, sort_keys=True)\n",
    "print(new_string)"
   ]
  },
  {
   "cell_type": "code",
   "execution_count": 36,
   "metadata": {},
   "outputs": [
    {
     "name": "stdout",
     "output_type": "stream",
     "text": [
      "{  'results': [  [  {'title': 'Apple iPhone 6  16GB Gold Unlocked '},\n",
      "                    {'price': '97.95'},\n",
      "                    {'currencyId': 'USD'}],\n",
      "                 [  {'title': 'Apple iPhone 7 | 32GB |Black | Fully Unlocked '},\n",
      "                    {'price': '175.99'},\n",
      "                    {'currencyId': 'USD'}],\n",
      "                 [  {'title': 'Apple iPhone 7 32GB Unlocked '},\n",
      "                    {'price': '194.99'},\n",
      "                    {'currencyId': 'USD'}],\n",
      "                 [  {  'title': 'Apple iPhone 7 Plus GSM Unlocked 4G LTE iOS '\n",
      "                                'Smartphone'},\n",
      "                    {'price': '279.99'},\n",
      "                    {'currencyId': 'USD'}],\n",
      "                 [  {  'title': 'Apple iPhone XR 128GB - All Colors! GSM & '\n",
      "                                'CDMA Unlocked!! Brand New!'},\n",
      "                    {'price': '794.0'},\n",
      "                    {'currencyId': 'USD'}],\n",
      "                 [  {  'title': 'Apple iPhone 7 Plus 32 128 256GB Factory GSM '\n",
      "                                'Unlocked AT&T \\\\/ T-Mobile Smartphone'},\n",
      "                    {'price': '284.99'},\n",
      "                    {'currencyId': 'USD'}]]}\n"
     ]
    }
   ],
   "source": [
    "pprint.pprint(parsed, indent=3)"
   ]
  }
 ],
 "metadata": {
  "kernelspec": {
   "display_name": "Python 3",
   "language": "python",
   "name": "python3"
  },
  "language_info": {
   "codemirror_mode": {
    "name": "ipython",
    "version": 3
   },
   "file_extension": ".py",
   "mimetype": "text/x-python",
   "name": "python",
   "nbconvert_exporter": "python",
   "pygments_lexer": "ipython3",
   "version": "3.7.1"
  }
 },
 "nbformat": 4,
 "nbformat_minor": 2
}
