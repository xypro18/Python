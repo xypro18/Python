{
 "cells": [
  {
   "cell_type": "code",
   "execution_count": 5,
   "metadata": {},
   "outputs": [
    {
     "name": "stdout",
     "output_type": "stream",
     "text": [
      "Ana\n",
      "António\n",
      "Anabela\n"
     ]
    }
   ],
   "source": [
    "# take the list below, and print out all the names that start with an 'A':\n",
    "names = ['Ricardo', 'Ana', 'Rita', 'António', 'Sebastião', 'Carolina', 'José', 'Sérgio', 'Anabela']\n",
    "\n",
    "# a possible solution:\n",
    "for name in names:\n",
    "    if name[0] == 'A':\n",
    "        print(name)"
   ]
  }
 ],
 "metadata": {
  "kernelspec": {
   "display_name": "Python 3",
   "language": "python",
   "name": "python3"
  },
  "language_info": {
   "codemirror_mode": {
    "name": "ipython",
    "version": 3
   },
   "file_extension": ".py",
   "mimetype": "text/x-python",
   "name": "python",
   "nbconvert_exporter": "python",
   "pygments_lexer": "ipython3",
   "version": "3.7.3"
  }
 },
 "nbformat": 4,
 "nbformat_minor": 2
}
