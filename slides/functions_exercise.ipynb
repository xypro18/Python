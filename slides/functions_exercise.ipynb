{
 "cells": [
  {
   "cell_type": "markdown",
   "metadata": {},
   "source": [
    "### Remember the loops exercise?"
   ]
  },
  {
   "cell_type": "code",
   "execution_count": 2,
   "metadata": {},
   "outputs": [
    {
     "name": "stdout",
     "output_type": "stream",
     "text": [
      "Ana\n",
      "António\n",
      "Anabela\n"
     ]
    }
   ],
   "source": [
    "# take the list below, and print out all the names that start with an 'A':\n",
    "names = ['Ricardo', 'Ana', 'Rita', 'António', 'Sebastião', 'Carolina', 'José', 'Sérgio', 'Anabela']\n",
    "\n",
    "# a possible solution:\n",
    "for name in names:\n",
    "    if name[0] == 'A':\n",
    "        print(name)"
   ]
  },
  {
   "cell_type": "markdown",
   "metadata": {},
   "source": [
    "Imagine that you'll need to use that piece of code a lot of times, the only change being the letter that you want to search for.\n",
    "\n",
    "Instead of having to write the same code over and over again, you can apply the DRY principle and make a definition/function that you'll be able to use everywhere.\n",
    "\n",
    "Go ahead and make a new function called `starts_with`; as we did in the loops exercise, think before coding, and take notes if needed."
   ]
  },
  {
   "cell_type": "code",
   "execution_count": 4,
   "metadata": {},
   "outputs": [],
   "source": [
    "# Solution:\n",
    "\n"
   ]
  }
 ],
 "metadata": {
  "kernelspec": {
   "display_name": "Python 3",
   "language": "python",
   "name": "python3"
  },
  "language_info": {
   "codemirror_mode": {
    "name": "ipython",
    "version": 3
   },
   "file_extension": ".py",
   "mimetype": "text/x-python",
   "name": "python",
   "nbconvert_exporter": "python",
   "pygments_lexer": "ipython3",
   "version": "3.7.3"
  }
 },
 "nbformat": 4,
 "nbformat_minor": 2
}
