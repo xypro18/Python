{
 "cells": [
  {
   "cell_type": "code",
   "execution_count": null,
   "metadata": {},
   "outputs": [],
   "source": [
    "# Console apps are simple to code and can automate a lot of recurring tasks.\n",
    "# Here's a usecase: "
   ]
  },
  {
   "cell_type": "markdown",
   "metadata": {},
   "source": [
    "1. I want to be able to run two routines that will automate some tasks\n",
    "2. I want a menu to choose one routine or another, or exit the program\n",
    "3. When I choose the number of the routine, the tasks are performed\n",
    "4. Upon sucessful completion, I need to return to the main menu\n",
    "5. I need to show an error if the wrong number or letters are typed"
   ]
  },
  {
   "cell_type": "code",
   "execution_count": null,
   "metadata": {},
   "outputs": [],
   "source": [
    "# The only function that we haven't convered yet is how to ask for user input, \n",
    "# which is the input() function:\n",
    "input('Enter choice: ')\n",
    "\n",
    "# Here's the content of routine A:\n",
    "print('Starting routine A...')\n",
    "print('.........')\n",
    "print('Finished!')\n",
    "    \n",
    "# Here's the content of routine B:\n",
    "print('Starting routine B...')\n",
    "print('.........')\n",
    "print('Finished!')\n",
    "\n",
    "# to exit a program you can call this function:\n",
    "exit()"
   ]
  },
  {
   "cell_type": "code",
   "execution_count": null,
   "metadata": {},
   "outputs": [],
   "source": [
    "# create a .py file and write your console app!"
   ]
  }
 ],
 "metadata": {
  "kernelspec": {
   "display_name": "Python 3",
   "language": "python",
   "name": "python3"
  },
  "language_info": {
   "codemirror_mode": {
    "name": "ipython",
    "version": 3
   },
   "file_extension": ".py",
   "mimetype": "text/x-python",
   "name": "python",
   "nbconvert_exporter": "python",
   "pygments_lexer": "ipython3",
   "version": "3.7.3"
  }
 },
 "nbformat": 4,
 "nbformat_minor": 2
}
