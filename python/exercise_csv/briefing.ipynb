{
 "cells": [
  {
   "cell_type": "markdown",
   "metadata": {},
   "source": [
    "A file containing names of the supporters was downloaded from a platform, named patrons.csv\n",
    "\n",
    "The goal is to create a HTML list of those supported to insert in a webpage, in the following format:\n",
    "\n",
    "````html\n",
    "<p>There are {total number of contributors} contributors:</p>\n",
    "<ul>\n",
    "    <li>{contributor name}</li>\n",
    "    <li>{contributor name}</li>\n",
    "    <li>...</li>\n",
    "</ul>\n",
    "````\n",
    "\n",
    "Pay attention to the file contents: we only want the names of the people that are in the '+1 Reward' list, not the ones in the 'No Reward' list ('No reward' means that they don't want to receive credit publicly)\n",
    "\n",
    "### Hints: \n",
    "\n",
    "We'll be using the csv module, so don't forget to import it.\n",
    "\n",
    "When iterating a file, if we want to skip a line we can use the function next(), for example:\n",
    "        \n",
    "````python\n",
    "import csv\n",
    "\n",
    "# Then open the file and place it in memory:\n",
    "with open('patrons.csv', 'r') as csv_file:\n",
    "    csv_data = csv.reader(csv_file)\n",
    "    next(csv_data)\n",
    "    next(csv_data)\n",
    "    for line in csv_data\n",
    "# we are now parsing the third line in the file\n",
    "````"
   ]
  },
  {
   "cell_type": "code",
   "execution_count": null,
   "metadata": {},
   "outputs": [],
   "source": [
    "import csv\n",
    "\n",
    "# Then open the file and place it in memory:\n",
    "with open('patrons.csv', 'r') as csv_file:\n",
    "    csv_data = csv.reader(csv_file)\n",
    "    next(csv_data)\n",
    "    next(csv_data)\n",
    "    for line in csv_data:\n",
    "        #your code here"
   ]
  }
 ],
 "metadata": {
  "kernelspec": {
   "display_name": "Python 3",
   "language": "python",
   "name": "python3"
  },
  "language_info": {
   "codemirror_mode": {
    "name": "ipython",
    "version": 3
   },
   "file_extension": ".py",
   "mimetype": "text/x-python",
   "name": "python",
   "nbconvert_exporter": "python",
   "pygments_lexer": "ipython3",
   "version": "3.7.3"
  }
 },
 "nbformat": 4,
 "nbformat_minor": 2
}
